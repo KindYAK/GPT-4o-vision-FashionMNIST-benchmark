{
 "cells": [
  {
   "cell_type": "code",
   "id": "initial_id",
   "metadata": {
    "collapsed": true
   },
   "source": [
    "import asyncio\n",
    "\n",
    "import tenacity\n",
    "from PIL.Image import Image\n",
    "%reload_ext autoreload\n",
    "%autoreload 2\n",
    "%autoreload now\n",
    "\n",
    "import logging\n",
    "import re\n",
    "\n",
    "from semaphore import set_semaphore\n",
    "from utils_openai import call_gpt4\n",
    "\n",
    "logging.basicConfig(level=logging.INFO, format='%(asctime)s - %(levelname)s - %(message)s')\n",
    "\n",
    "from dotenv import load_dotenv\n",
    "from openai import AsyncOpenAI\n",
    "\n",
    "from torchvision import datasets\n",
    "\n",
    "import pandas as pd\n",
    "\n",
    "load_dotenv()"
   ],
   "outputs": [],
   "execution_count": null
  },
  {
   "metadata": {},
   "cell_type": "code",
   "source": "set_semaphore(\"gpt-4\", 100)",
   "id": "b577547e516cfc41",
   "outputs": [],
   "execution_count": null
  },
  {
   "metadata": {},
   "cell_type": "code",
   "source": "client = AsyncOpenAI()",
   "id": "a5c99c847108d759",
   "outputs": [],
   "execution_count": null
  },
  {
   "metadata": {},
   "cell_type": "code",
   "source": "fashion_mnist = datasets.FashionMNIST(root='./data', train=True, download=True)",
   "id": "580f33b2b7a7e520",
   "outputs": [],
   "execution_count": null
  },
  {
   "metadata": {},
   "cell_type": "code",
   "source": "",
   "id": "f8a9b83c7e3665cf",
   "outputs": [],
   "execution_count": null
  },
  {
   "metadata": {},
   "cell_type": "code",
   "source": [
    "fashion_mnist_labels = {\n",
    "    0: 'T-shirt/top',\n",
    "    1: 'Trouser',\n",
    "    2: 'Pullover',\n",
    "    3: 'Dress',\n",
    "    4: 'Coat',\n",
    "    5: 'Sandal',\n",
    "    6: 'Shirt',\n",
    "    7: 'Sneaker',\n",
    "    8: 'Bag',\n",
    "    9: 'Ankle boot'\n",
    "}"
   ],
   "id": "4411c5658084d60a",
   "outputs": [],
   "execution_count": null
  },
  {
   "metadata": {},
   "cell_type": "code",
   "source": "",
   "id": "b508d0168af85ec4",
   "outputs": [],
   "execution_count": null
  },
  {
   "metadata": {},
   "cell_type": "code",
   "source": "",
   "id": "1b1b611797b8ef0a",
   "outputs": [],
   "execution_count": null
  },
  {
   "metadata": {},
   "cell_type": "code",
   "source": [
    "LABELS_MESSAGE = \"\\n\".join([f\"{k}: {v}\" for k, v in fashion_mnist_labels.items()])\n",
    "PROMPT_TEMPLATE = f\"\"\"You are presented with a greyscale low-resolution image of a piece of clothing.\n",
    "It is of one of the possible classes:\n",
    "{LABELS_MESSAGE}\n",
    "\n",
    "Your task is to classify the image into one of the classes.\n",
    "Format your output like this:\n",
    "First, reason about what features let you classify the image correctly. If there's some ambiguity - reason about it and try to come to the most probable conclusion. Your reasoning should be 2-4 sentences at max.\n",
    "You last line should always be class label, nothing else.\n",
    "\n",
    "Your last line should always be a class label from the list above! If you are not sure - try to make your best guess. \n",
    "\"\"\""
   ],
   "id": "947fa82dce9c140",
   "outputs": [],
   "execution_count": null
  },
  {
   "metadata": {},
   "cell_type": "code",
   "source": [
    "def log_before_sleep(retry_state):\n",
    "    logging.info(f\"Retrying: attempt #{retry_state.attempt_number}, waiting {retry_state.next_action.sleep} seconds due to {retry_state.outcome.exception()}\")\n",
    "\n",
    "\n",
    "@tenacity.retry(\n",
    "    wait=tenacity.wait_fixed(1),\n",
    "    stop=tenacity.stop_after_attempt(10),\n",
    "    retry=tenacity.retry_if_exception_type(Exception),\n",
    "    before_sleep=log_before_sleep,\n",
    ")\n",
    "async def get_img_label(img: Image, ind: int) -> tuple[int, str, int]:\n",
    "    response = await call_gpt4(\n",
    "        client,\n",
    "        PROMPT_TEMPLATE,\n",
    "        imgs=[\n",
    "            img,\n",
    "        ]\n",
    "    )\n",
    "    try:\n",
    "        label = int(re.search(r\"\\d\", response).group())\n",
    "    except:\n",
    "        return 0, response, ind\n",
    "    reasoning = \"\\n\".join(response.split(\"\\n\")[:-1]).strip()\n",
    "    return label, reasoning, ind"
   ],
   "id": "e9d03b8674cb3eba",
   "outputs": [],
   "execution_count": null
  },
  {
   "metadata": {},
   "cell_type": "code",
   "source": [
    "import numpy as np\n",
    "\n",
    "results = [None] * len(fashion_mnist) # Each element shall be {\"label_pred\": int, \"label_true\": int, \"reasoning\": str}\n",
    "# tasks = [get_img_label(img, i) for i, (img, _) in enumerate(fashion_mnist)]\n",
    "# tasks = [get_img_label(img, i) for i, (img, _) in enumerate([fashion_mnist[i] for i in range(10)])]\n",
    "# tasks = [get_img_label(img, i) for i, (img, _) in enumerate(fashion_mnist) if results[i] is None]\n",
    "\n",
    "# random_indices = np.random.choice(len(fashion_mnist), size=1000, replace=False)\n",
    "# random_sample = [fashion_mnist[i] for i in random_indices]\n",
    "tasks = [get_img_label(img, i) for i, (img, _) in enumerate(fashion_mnist) if results[i] is None]\n",
    "for i, task in enumerate(asyncio.as_completed(tasks)):\n",
    "    if i % 100 == 0:\n",
    "        print(f\"Processed {i} images\")\n",
    "    label_pred, reasoning, ind = await task\n",
    "    label_true = fashion_mnist[ind][1]\n",
    "    results[ind] = {\n",
    "        \"ind\": ind,\n",
    "        \"label_pred\": label_pred,\n",
    "        \"label_true\": label_true,\n",
    "        \"reasoning\": reasoning\n",
    "    }"
   ],
   "id": "cffd694285143bc6",
   "outputs": [],
   "execution_count": null
  },
  {
   "metadata": {},
   "cell_type": "code",
   "source": "len([get_img_label(img, i) for i, (img, _) in enumerate(fashion_mnist) if results[i] is None])",
   "id": "dc0d5fe22d12968e",
   "outputs": [],
   "execution_count": null
  },
  {
   "metadata": {},
   "cell_type": "code",
   "source": "results = [r for r in results if r is not None]",
   "id": "aca5e1ff2822a5bb",
   "outputs": [],
   "execution_count": null
  },
  {
   "metadata": {},
   "cell_type": "code",
   "source": "len(results)",
   "id": "3d4ba985e71971af",
   "outputs": [],
   "execution_count": null
  },
  {
   "metadata": {},
   "cell_type": "code",
   "source": "pd.DataFrame(results).to_csv(\"results_train.csv\", index=False)",
   "id": "1d8c855d53876bbc",
   "outputs": [],
   "execution_count": null
  },
  {
   "metadata": {},
   "cell_type": "code",
   "source": "",
   "id": "64e3320a95dc7931",
   "outputs": [],
   "execution_count": null
  },
  {
   "metadata": {},
   "cell_type": "code",
   "source": [
    "import os\n",
    "\n",
    "# Those 30 images where not classified unless you specifically ask LLM to ALWAYS guess a class label\n",
    "bad_imgs = [(i, img) for i, (img, _) in enumerate(fashion_mnist) if results[i] is None]\n",
    "os.makedirs(\"bad_imgs\", exist_ok=True)\n",
    "for i, img in bad_imgs:\n",
    "    img.save(os.path.join(\"bad_imgs\", f'image_{i}.png'))"
   ],
   "id": "64d2b62250d639e8",
   "outputs": [],
   "execution_count": null
  },
  {
   "metadata": {},
   "cell_type": "code",
   "source": "",
   "id": "bb9098b5bfe859d7",
   "outputs": [],
   "execution_count": null
  },
  {
   "metadata": {},
   "cell_type": "code",
   "source": "",
   "id": "e27fd38f732758bb",
   "outputs": [],
   "execution_count": null
  },
  {
   "metadata": {},
   "cell_type": "code",
   "source": [
    "from sklearn.metrics import accuracy_score, classification_report\n",
    "\n",
    "y_pred = [res['label_pred'] for res in results]\n",
    "y_true = [res['label_true'] for res in results]\n",
    "\n",
    "accuracy = accuracy_score(y_true, y_pred)\n",
    "print(f\"Accuracy: {accuracy:.4f}\")\n",
    "\n",
    "report = classification_report(y_true, y_pred)\n",
    "print(\"Classification Report:\")\n",
    "print(report)"
   ],
   "id": "fea4fa9e2c704c19",
   "outputs": [],
   "execution_count": null
  },
  {
   "metadata": {},
   "cell_type": "code",
   "source": "",
   "id": "9b3aaca4a593547c",
   "outputs": [],
   "execution_count": null
  },
  {
   "metadata": {},
   "cell_type": "code",
   "source": "",
   "id": "b5ff1dd1f50d46a6",
   "outputs": [],
   "execution_count": null
  },
  {
   "metadata": {},
   "cell_type": "code",
   "source": "",
   "id": "c3465bbf6f92d6d1",
   "outputs": [],
   "execution_count": null
  }
 ],
 "metadata": {
  "kernelspec": {
   "display_name": "Python 3",
   "language": "python",
   "name": "python3"
  },
  "language_info": {
   "codemirror_mode": {
    "name": "ipython",
    "version": 2
   },
   "file_extension": ".py",
   "mimetype": "text/x-python",
   "name": "python",
   "nbconvert_exporter": "python",
   "pygments_lexer": "ipython2",
   "version": "2.7.6"
  }
 },
 "nbformat": 4,
 "nbformat_minor": 5
}
